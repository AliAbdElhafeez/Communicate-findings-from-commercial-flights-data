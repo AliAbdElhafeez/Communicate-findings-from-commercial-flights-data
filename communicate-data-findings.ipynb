{
 "cells": [
  {
   "cell_type": "markdown",
   "id": "f0b3711d",
   "metadata": {
    "papermill": {
     "duration": 0.048958,
     "end_time": "2022-01-17T04:46:09.997759",
     "exception": false,
     "start_time": "2022-01-17T04:46:09.948801",
     "status": "completed"
    },
    "tags": []
   },
   "source": [
    "#### 01/04/2021\n",
    "<a id='intro'></a>\n",
    "# Introduction\n",
    "\n",
    "This is a communicate data findings project. We will use Python visualization libraries to systematically explore commercial flights dataset, starting from plots of single variables and building up to plots of multiple variables.\n",
    "You can see **a short presentation** of that illustrates interesting trends and relationships that we discovered in the dataset [here](https://drive.google.com/uc?id=1zmA0yS-mwTdK2NcLclrxpurR9E0Ye5EB&export=download).\n",
    "\n",
    "### Dataset Description \n",
    "\n",
    "This dataset consists of flight arrival and departure details for all commercial flights within the USA.\n",
    "The flight data is [here](https://community.amstat.org/jointscsg-section/dataexpo/dataexpo2009). \n",
    "The data contains more than one CSV file, Each file includes a year of data, The 2 files used in this project include the years 2006 and 2007. Each file contains 29 columns and 3946349 rows after cleaning including departure and arrival times, departure and arrival CRS times, arrival and departure delays, tail number, unique carrier, and if the flight is cancelled or diverted and the reasons for the delay.\n",
    "\n",
    "\n",
    "## Questions for Analysis\n",
    "\n",
    "* Q1 What are the most significant types of delays?\n",
    "* Q2 Is there a relation between ArrDelay at certain Dest and DepDelay from certain Origin if the Dest and the Origin are the same?\n",
    "* Q3 Does the Airtime and Distance affect the number of delayed flights?\n",
    "* Q4 Is there a sign that the Cancelled flights are related to the Aircraft itself?"
   ]
  },
  {
   "cell_type": "markdown",
   "id": "8e52062a",
   "metadata": {
    "papermill": {
     "duration": 0.04856,
     "end_time": "2022-01-17T04:46:10.093458",
     "exception": false,
     "start_time": "2022-01-17T04:46:10.044898",
     "status": "completed"
    },
    "tags": []
   },
   "source": [
    "# Set up the environment"
   ]
  },
  {
   "cell_type": "code",
   "execution_count": 1,
   "id": "fca7963c",
   "metadata": {
    "execution": {
     "iopub.execute_input": "2022-01-17T04:46:10.191807Z",
     "iopub.status.busy": "2022-01-17T04:46:10.190037Z",
     "iopub.status.idle": "2022-01-17T04:46:11.185739Z",
     "shell.execute_reply": "2022-01-17T04:46:11.186278Z",
     "shell.execute_reply.started": "2022-01-16T07:38:01.497954Z"
    },
    "papermill": {
     "duration": 1.046892,
     "end_time": "2022-01-17T04:46:11.186578",
     "exception": false,
     "start_time": "2022-01-17T04:46:10.139686",
     "status": "completed"
    },
    "tags": []
   },
   "outputs": [],
   "source": [
    "import pandas as pd\n",
    "import numpy as np\n",
    "import matplotlib.pyplot as plt\n",
    "import seaborn as sb\n",
    "%matplotlib inline"
   ]
  },
  {
   "cell_type": "markdown",
   "id": "13ecc629",
   "metadata": {
    "papermill": {
     "duration": 0.045656,
     "end_time": "2022-01-17T04:46:11.277951",
     "exception": false,
     "start_time": "2022-01-17T04:46:11.232295",
     "status": "completed"
    },
    "tags": []
   },
   "source": [
    "# Loading our data"
   ]
  },
  {
   "cell_type": "code",
   "execution_count": 2,
   "id": "95943059",
   "metadata": {
    "execution": {
     "iopub.execute_input": "2022-01-17T04:46:11.375480Z",
     "iopub.status.busy": "2022-01-17T04:46:11.374449Z",
     "iopub.status.idle": "2022-01-17T04:47:02.436878Z",
     "shell.execute_reply": "2022-01-17T04:47:02.436276Z",
     "shell.execute_reply.started": "2022-01-16T07:38:02.523817Z"
    },
    "papermill": {
     "duration": 51.113269,
     "end_time": "2022-01-17T04:47:02.437034",
     "exception": false,
     "start_time": "2022-01-17T04:46:11.323765",
     "status": "completed"
    },
    "tags": []
   },
   "outputs": [],
   "source": [
    "# Loading data\n",
    "\n",
    "DataExpo2006 = pd.read_csv('/kaggle/input/group-1/dataset/2006.csv')\n",
    "DataExpo2007 = pd.read_csv('/kaggle/input/group-1/dataset/2007.csv')"
   ]
  },
  {
   "cell_type": "markdown",
   "id": "58226aa6",
   "metadata": {
    "papermill": {
     "duration": 0.045161,
     "end_time": "2022-01-17T04:47:02.528753",
     "exception": false,
     "start_time": "2022-01-17T04:47:02.483592",
     "status": "completed"
    },
    "tags": []
   },
   "source": [
    "\n",
    "# Cleaning and processing data\n",
    "\n",
    "First, separate cancelled or diverted flights from the two data frames."
   ]
  },
  {
   "cell_type": "code",
   "execution_count": 3,
   "id": "a32330a6",
   "metadata": {
    "execution": {
     "iopub.execute_input": "2022-01-17T04:47:02.627370Z",
     "iopub.status.busy": "2022-01-17T04:47:02.626075Z",
     "iopub.status.idle": "2022-01-17T04:47:04.867584Z",
     "shell.execute_reply": "2022-01-17T04:47:04.866901Z",
     "shell.execute_reply.started": "2022-01-16T07:38:55.568812Z"
    },
    "papermill": {
     "duration": 2.292868,
     "end_time": "2022-01-17T04:47:04.867748",
     "exception": false,
     "start_time": "2022-01-17T04:47:02.574880",
     "status": "completed"
    },
    "tags": []
   },
   "outputs": [],
   "source": [
    "# Separate cancelled or diverted flights\n",
    "\n",
    "DataExpo_cancelled_or_diverted_2006 = DataExpo2006.query('Cancelled == 1 | Diverted == 1')\n",
    "DataExpo_cancelled_or_diverted_2007 = DataExpo2007.query('Cancelled == 1 | Diverted == 1')\n",
    "DataExpo_cancelled_or_diverted = pd.concat([DataExpo_cancelled_or_diverted_2006, DataExpo_cancelled_or_diverted_2007])\n",
    "\n",
    "DataExpo2006 = DataExpo2006.query('Cancelled == 0 & Diverted == 0')\n",
    "DataExpo2007 = DataExpo2007.query('Cancelled == 0 & Diverted == 0')"
   ]
  },
  {
   "cell_type": "markdown",
   "id": "364a5829",
   "metadata": {
    "papermill": {
     "duration": 0.049815,
     "end_time": "2022-01-17T04:47:04.976830",
     "exception": false,
     "start_time": "2022-01-17T04:47:04.927015",
     "status": "completed"
    },
    "tags": []
   },
   "source": [
    "In this project, we focus only on flights from 12:00 pm to 12:00 am. "
   ]
  },
  {
   "cell_type": "code",
   "execution_count": 4,
   "id": "995e113a",
   "metadata": {
    "execution": {
     "iopub.execute_input": "2022-01-17T04:47:05.071946Z",
     "iopub.status.busy": "2022-01-17T04:47:05.071272Z",
     "iopub.status.idle": "2022-01-17T04:47:07.525847Z",
     "shell.execute_reply": "2022-01-17T04:47:07.525335Z",
     "shell.execute_reply.started": "2022-01-16T07:38:57.963455Z"
    },
    "papermill": {
     "duration": 2.502753,
     "end_time": "2022-01-17T04:47:07.526013",
     "exception": false,
     "start_time": "2022-01-17T04:47:05.023260",
     "status": "completed"
    },
    "tags": []
   },
   "outputs": [],
   "source": [
    "# Flights from 12:00 pm to 12:00 am only\n",
    "\n",
    "DataExpo2006 = DataExpo2006.query('DepTime > 1200.0 & CRSDepTime > 1200 & ArrTime > 1200.0 & CRSArrTime > 1200')\n",
    "DataExpo2006 = DataExpo2006.query('DepTime < 2400.0 & CRSArrTime < 2400 & ArrTime < 2400.0 & CRSDepTime < 2400')\n",
    "\n",
    "DataExpo2007 = DataExpo2007.query('DepTime > 1200.0 & CRSDepTime > 1200 & ArrTime > 1200.0 & CRSArrTime > 1200')\n",
    "DataExpo2007 = DataExpo2007.query('DepTime < 2400.0 & CRSArrTime < 2400 & ArrTime < 2400.0 & CRSDepTime < 2400')"
   ]
  },
  {
   "cell_type": "markdown",
   "id": "bcfb2b7a",
   "metadata": {
    "papermill": {
     "duration": 0.045631,
     "end_time": "2022-01-17T04:47:07.618590",
     "exception": false,
     "start_time": "2022-01-17T04:47:07.572959",
     "status": "completed"
    },
    "tags": []
   },
   "source": [
    "Cleaning the columns DepTime, ArrTime, CRSDepTime, and CRSDepTime and changing them to be suitable for calculating time delays for both 2006 and 2007."
   ]
  },
  {
   "cell_type": "code",
   "execution_count": 5,
   "id": "5510aa6e",
   "metadata": {
    "execution": {
     "iopub.execute_input": "2022-01-17T04:47:07.721486Z",
     "iopub.status.busy": "2022-01-17T04:47:07.720831Z",
     "iopub.status.idle": "2022-01-17T04:51:37.891956Z",
     "shell.execute_reply": "2022-01-17T04:51:37.891354Z",
     "shell.execute_reply.started": "2022-01-16T07:39:00.747061Z"
    },
    "papermill": {
     "duration": 270.227887,
     "end_time": "2022-01-17T04:51:37.892110",
     "exception": false,
     "start_time": "2022-01-17T04:47:07.664223",
     "status": "completed"
    },
    "tags": []
   },
   "outputs": [],
   "source": [
    "# DepTime 2006\n",
    "\n",
    "DataExpo2006['DepTime'] = DataExpo2006['DepTime'].astype('int64').astype('str')\n",
    "DepTime = DataExpo2006['DepTime'].tolist()\n",
    "DpTime = []\n",
    "\n",
    "import datetime\n",
    "for t in DepTime:\n",
    "     DpTime.append(datetime.datetime.strptime(t,'%H%M').strftime('%H:%M'))\n",
    "        \n",
    "DataExpo2006['DepTime'] = DpTime\n",
    "\n",
    "# DepTime 2007\n",
    "\n",
    "DataExpo2007['DepTime'] = DataExpo2007['DepTime'].astype('int64').astype('str')\n",
    "DepTime = DataExpo2007['DepTime'].tolist()\n",
    "DpTime = []\n",
    "\n",
    "import datetime\n",
    "for t in DepTime:\n",
    "     DpTime.append(datetime.datetime.strptime(t,'%H%M').strftime('%H:%M'))\n",
    "        \n",
    "DataExpo2007['DepTime'] = DpTime\n",
    "\n",
    "# ArrTime 2006\n",
    "\n",
    "DataExpo2006['ArrTime'] = DataExpo2006['ArrTime'].astype('int64').astype('str')\n",
    "ArrTime = DataExpo2006['ArrTime'].tolist()\n",
    "ArTime = []\n",
    "\n",
    "import datetime\n",
    "for t in ArrTime:\n",
    "     ArTime.append(datetime.datetime.strptime(t,'%H%M').strftime('%H:%M'))\n",
    "\n",
    "DataExpo2006['ArrTime'] = ArTime\n",
    "\n",
    "# ArrTime 2007\n",
    "\n",
    "DataExpo2007['ArrTime'] = DataExpo2007['ArrTime'].astype('int64').astype('str')\n",
    "ArrTime = DataExpo2007['ArrTime'].tolist()\n",
    "ArTime = []\n",
    "\n",
    "import datetime\n",
    "for t in ArrTime:\n",
    "     ArTime.append(datetime.datetime.strptime(t,'%H%M').strftime('%H:%M'))\n",
    "\n",
    "DataExpo2007['ArrTime'] = ArTime"
   ]
  },
  {
   "cell_type": "code",
   "execution_count": 6,
   "id": "b4bfa10f",
   "metadata": {
    "execution": {
     "iopub.execute_input": "2022-01-17T04:51:37.997628Z",
     "iopub.status.busy": "2022-01-17T04:51:37.996952Z",
     "iopub.status.idle": "2022-01-17T04:56:10.502191Z",
     "shell.execute_reply": "2022-01-17T04:56:10.503017Z",
     "shell.execute_reply.started": "2022-01-16T07:41:57.246729Z"
    },
    "papermill": {
     "duration": 272.564021,
     "end_time": "2022-01-17T04:56:10.503512",
     "exception": false,
     "start_time": "2022-01-17T04:51:37.939491",
     "status": "completed"
    },
    "tags": []
   },
   "outputs": [],
   "source": [
    "# CRSDepTime 2006\n",
    "\n",
    "DataExpo2006['CRSDepTime'] = DataExpo2006['CRSDepTime'].astype('int64').astype('str')\n",
    "CRSDepTime = DataExpo2006['CRSDepTime'].tolist()\n",
    "CRSDpTime = []\n",
    "\n",
    "import datetime\n",
    "for t in CRSDepTime:\n",
    "     CRSDpTime.append(datetime.datetime.strptime(t,'%H%M').strftime('%H:%M'))\n",
    "\n",
    "DataExpo2006['CRSDepTime'] = CRSDpTime\n",
    "\n",
    "# CRSDepTime 2007\n",
    "\n",
    "DataExpo2007['CRSDepTime'] = DataExpo2007['CRSDepTime'].astype('int64').astype('str')\n",
    "CRSDepTime = DataExpo2007['CRSDepTime'].tolist()\n",
    "CRSDpTime = []\n",
    "\n",
    "import datetime\n",
    "for t in CRSDepTime:\n",
    "     CRSDpTime.append(datetime.datetime.strptime(t,'%H%M').strftime('%H:%M'))\n",
    "\n",
    "DataExpo2007['CRSDepTime'] = CRSDpTime\n",
    "\n",
    "# CRSArrTime 2006\n",
    "\n",
    "DataExpo2006['CRSArrTime'] = DataExpo2006['CRSArrTime'].astype('int64').astype('str')\n",
    "CRSArrTime = DataExpo2006['CRSArrTime'].tolist()\n",
    "CRSArTime = []\n",
    "\n",
    "import datetime\n",
    "for t in CRSArrTime:\n",
    "     CRSArTime.append(datetime.datetime.strptime(t,'%H%M').strftime('%H:%M'))\n",
    "\n",
    "DataExpo2006['CRSArrTime'] = CRSArTime\n",
    "\n",
    "# CRSArrTime 2007\n",
    "\n",
    "DataExpo2007['CRSArrTime'] = DataExpo2007['CRSArrTime'].astype('int64').astype('str')\n",
    "CRSArrTime = DataExpo2007['CRSArrTime'].tolist()\n",
    "CRSArTime = []\n",
    "\n",
    "import datetime\n",
    "for t in CRSArrTime:\n",
    "     CRSArTime.append(datetime.datetime.strptime(t,'%H%M').strftime('%H:%M'))\n",
    "\n",
    "DataExpo2007['CRSArrTime'] = CRSArTime"
   ]
  },
  {
   "cell_type": "markdown",
   "id": "04dbd87f",
   "metadata": {
    "papermill": {
     "duration": 0.046912,
     "end_time": "2022-01-17T04:56:10.601492",
     "exception": false,
     "start_time": "2022-01-17T04:56:10.554580",
     "status": "completed"
    },
    "tags": []
   },
   "source": [
    "Cleaning the columns ActualElapsedTime, CRSElapsedTime, ArrDelay, and DepDelay for both 2006 and 2007. Because much of it contains erroneous data."
   ]
  },
  {
   "cell_type": "code",
   "execution_count": 7,
   "id": "3d647fd9",
   "metadata": {
    "execution": {
     "iopub.execute_input": "2022-01-17T04:56:10.699713Z",
     "iopub.status.busy": "2022-01-17T04:56:10.699070Z",
     "iopub.status.idle": "2022-01-17T04:59:54.767527Z",
     "shell.execute_reply": "2022-01-17T04:59:54.768195Z",
     "shell.execute_reply.started": "2022-01-16T07:44:54.724423Z"
    },
    "papermill": {
     "duration": 224.120183,
     "end_time": "2022-01-17T04:59:54.768465",
     "exception": false,
     "start_time": "2022-01-17T04:56:10.648282",
     "status": "completed"
    },
    "tags": []
   },
   "outputs": [],
   "source": [
    "# ActualElapsedTime\n",
    "\n",
    "DataExpo2006['ActualElapsedTime'] = DataExpo2006['ArrTime'].str.split(':').apply(lambda x: int(x[0]) * 60 + int(x[1])) - DataExpo2006['DepTime'].str.split(':').apply(lambda x: int(x[0]) * 60 + int(x[1]))\n",
    "DataExpo2006['ActualElapsedTime'] = DataExpo2006['ActualElapsedTime'].astype('int64')\n",
    "\n",
    "DataExpo2007['ActualElapsedTime'] = DataExpo2007['ArrTime'].str.split(':').apply(lambda x: int(x[0]) * 60 + int(x[1])) - DataExpo2007['DepTime'].str.split(':').apply(lambda x: int(x[0]) * 60 + int(x[1]))\n",
    "DataExpo2007['ActualElapsedTime'] = DataExpo2007['ActualElapsedTime'].astype('int64')\n",
    "\n",
    "# CRSElapsedTime\n",
    "\n",
    "DataExpo2006['CRSElapsedTime'] = DataExpo2006['CRSArrTime'].str.split(':').apply(lambda x: int(x[0]) * 60 + int(x[1])) - DataExpo2006['CRSDepTime'].str.split(':').apply(lambda x: int(x[0]) * 60 + int(x[1]))\n",
    "DataExpo2006['CRSElapsedTime'] = DataExpo2006['CRSElapsedTime'].astype('int64')\n",
    "\n",
    "DataExpo2007['CRSElapsedTime'] = DataExpo2007['CRSArrTime'].str.split(':').apply(lambda x: int(x[0]) * 60 + int(x[1])) - DataExpo2007['CRSDepTime'].str.split(':').apply(lambda x: int(x[0]) * 60 + int(x[1]))\n",
    "DataExpo2007['CRSElapsedTime'] = DataExpo2007['CRSElapsedTime'].astype('int64')\n",
    "\n",
    "# ArrDelay and DepDelay\n",
    "\n",
    "DataExpo2006['ArrDelay'] = DataExpo2006['ArrTime'].str.split(':').apply(lambda x: int(x[0]) * 60 + int(x[1])) - DataExpo2006['CRSArrTime'].str.split(':').apply(lambda x: int(x[0]) * 60 + int(x[1]))\n",
    "DataExpo2006['DepDelay'] = DataExpo2006['DepTime'].str.split(':').apply(lambda x: int(x[0]) * 60 + int(x[1])) - DataExpo2006['CRSDepTime'].str.split(':').apply(lambda x: int(x[0]) * 60 + int(x[1]))\n",
    "\n",
    "DataExpo2007['ArrDelay'] = DataExpo2007['ArrTime'].str.split(':').apply(lambda x: int(x[0]) * 60 + int(x[1])) - DataExpo2007['CRSArrTime'].str.split(':').apply(lambda x: int(x[0]) * 60 + int(x[1]))\n",
    "DataExpo2007['DepDelay'] = DataExpo2007['DepTime'].str.split(':').apply(lambda x: int(x[0]) * 60 + int(x[1])) - DataExpo2007['CRSDepTime'].str.split(':').apply(lambda x: int(x[0]) * 60 + int(x[1]))\n"
   ]
  },
  {
   "cell_type": "markdown",
   "id": "9f3da9b4",
   "metadata": {
    "papermill": {
     "duration": 0.060505,
     "end_time": "2022-01-17T04:59:54.879770",
     "exception": false,
     "start_time": "2022-01-17T04:59:54.819265",
     "status": "completed"
    },
    "tags": []
   },
   "source": [
    "Now we exclude rows whose ActualElapsedTime not equal (AirTime + TaxiIn + TaxiOut)."
   ]
  },
  {
   "cell_type": "code",
   "execution_count": 8,
   "id": "0e83d5a3",
   "metadata": {
    "execution": {
     "iopub.execute_input": "2022-01-17T04:59:54.983003Z",
     "iopub.status.busy": "2022-01-17T04:59:54.982390Z",
     "iopub.status.idle": "2022-01-17T04:59:59.777642Z",
     "shell.execute_reply": "2022-01-17T04:59:59.778195Z",
     "shell.execute_reply.started": "2022-01-16T07:48:15.585161Z"
    },
    "papermill": {
     "duration": 4.846147,
     "end_time": "2022-01-17T04:59:59.778376",
     "exception": false,
     "start_time": "2022-01-17T04:59:54.932229",
     "status": "completed"
    },
    "tags": []
   },
   "outputs": [],
   "source": [
    "# Exclude rows whose ActualElapsedTime not equal (AirTime + TaxiIn + TaxiOut)\n",
    "\n",
    "DataExpo2006['AirTime'] = DataExpo2006['AirTime'].astype('int64')\n",
    "DataExpo2006 = DataExpo2006.query('AirTime + TaxiIn + TaxiOut == ActualElapsedTime')\n",
    "\n",
    "DataExpo2007['AirTime'] = DataExpo2007['AirTime'].astype('int64')\n",
    "DataExpo2007 = DataExpo2007.query('AirTime + TaxiIn + TaxiOut == ActualElapsedTime')"
   ]
  },
  {
   "cell_type": "markdown",
   "id": "a3b4fca2",
   "metadata": {
    "papermill": {
     "duration": 0.046749,
     "end_time": "2022-01-17T04:59:59.872433",
     "exception": false,
     "start_time": "2022-01-17T04:59:59.825684",
     "status": "completed"
    },
    "tags": []
   },
   "source": [
    "After that, we exclude the existence of the five delay columns which do not match with the actual delay."
   ]
  },
  {
   "cell_type": "code",
   "execution_count": 9,
   "id": "a7edcf5d",
   "metadata": {
    "execution": {
     "iopub.execute_input": "2022-01-17T04:59:59.969098Z",
     "iopub.status.busy": "2022-01-17T04:59:59.968396Z",
     "iopub.status.idle": "2022-01-17T05:00:08.345431Z",
     "shell.execute_reply": "2022-01-17T05:00:08.344613Z",
     "shell.execute_reply.started": "2022-01-16T07:48:20.876607Z"
    },
    "papermill": {
     "duration": 8.426502,
     "end_time": "2022-01-17T05:00:08.345598",
     "exception": false,
     "start_time": "2022-01-17T04:59:59.919096",
     "status": "completed"
    },
    "tags": []
   },
   "outputs": [],
   "source": [
    "# Exclude the existence of the five delays (CarrierDelay, WeatherDelay, ...) whose sum is more than the actual delay (DepDelay)\n",
    "\n",
    "DataExpo2006 = pd.concat([DataExpo2006.query('CarrierDelay + WeatherDelay + NASDelay + SecurityDelay + LateAircraftDelay <= DepDelay & DepDelay > 0') \n",
    "                           , DataExpo2006.query('DepDelay <= 0')])\n",
    "\n",
    "DataExpo2007 = pd.concat([DataExpo2007.query('CarrierDelay + WeatherDelay + NASDelay + SecurityDelay + LateAircraftDelay <= DepDelay & DepDelay > 0') \n",
    "                           , DataExpo2007.query('DepDelay <= 0')])\n",
    "\n",
    "# Exclude the existence of the five delays (CarrierDelay, WeatherDelay, ...) while there is no actual delay (DepDelay)\n",
    "\n",
    "DataExpo2006 = pd.concat([DataExpo2006.query('CarrierDelay + WeatherDelay + NASDelay + SecurityDelay + LateAircraftDelay == 0 & DepDelay == 0') \n",
    "                         , DataExpo2006.query('CarrierDelay + WeatherDelay + NASDelay + SecurityDelay + LateAircraftDelay == 0 & DepDelay < 0')\n",
    "                         , DataExpo2006.query('CarrierDelay + WeatherDelay + NASDelay + SecurityDelay + LateAircraftDelay > 0 & DepDelay > 0')\n",
    "                         , DataExpo2006.query('CarrierDelay + WeatherDelay + NASDelay + SecurityDelay + LateAircraftDelay == 0 & DepDelay > 0')])\n",
    "\n",
    "DataExpo2007 = pd.concat([DataExpo2007.query('CarrierDelay + WeatherDelay + NASDelay + SecurityDelay + LateAircraftDelay == 0 & DepDelay == 0') \n",
    "                         , DataExpo2007.query('CarrierDelay + WeatherDelay + NASDelay + SecurityDelay + LateAircraftDelay == 0 & DepDelay < 0')\n",
    "                         , DataExpo2007.query('CarrierDelay + WeatherDelay + NASDelay + SecurityDelay + LateAircraftDelay > 0 & DepDelay > 0')\n",
    "                         , DataExpo2007.query('CarrierDelay + WeatherDelay + NASDelay + SecurityDelay + LateAircraftDelay == 0 & DepDelay > 0')])"
   ]
  },
  {
   "cell_type": "markdown",
   "id": "f74786c0",
   "metadata": {
    "papermill": {
     "duration": 0.046303,
     "end_time": "2022-01-17T05:00:08.439493",
     "exception": false,
     "start_time": "2022-01-17T05:00:08.393190",
     "status": "completed"
    },
    "tags": []
   },
   "source": [
    "Dropping duplicates and merging the two data frames into one."
   ]
  },
  {
   "cell_type": "code",
   "execution_count": 10,
   "id": "f6f2147c",
   "metadata": {
    "execution": {
     "iopub.execute_input": "2022-01-17T05:00:08.542063Z",
     "iopub.status.busy": "2022-01-17T05:00:08.540969Z",
     "iopub.status.idle": "2022-01-17T05:00:21.419553Z",
     "shell.execute_reply": "2022-01-17T05:00:21.418899Z",
     "shell.execute_reply.started": "2022-01-16T07:48:29.60016Z"
    },
    "papermill": {
     "duration": 12.933264,
     "end_time": "2022-01-17T05:00:21.419696",
     "exception": false,
     "start_time": "2022-01-17T05:00:08.486432",
     "status": "completed"
    },
    "tags": []
   },
   "outputs": [],
   "source": [
    "# Dropping duplicates\n",
    "DataExpo2006.drop_duplicates(inplace=True)\n",
    "DataExpo2007.drop_duplicates(inplace=True)\n",
    "\n",
    "# Concatinating the two dataframes 2006, 2007 into one dataframe\n",
    "DataExpo = pd.concat([DataExpo2006, DataExpo2007])"
   ]
  },
  {
   "cell_type": "markdown",
   "id": "cfefb772",
   "metadata": {
    "papermill": {
     "duration": 0.046302,
     "end_time": "2022-01-17T05:00:21.512310",
     "exception": false,
     "start_time": "2022-01-17T05:00:21.466008",
     "status": "completed"
    },
    "tags": []
   },
   "source": [
    "Renaming DayOfWeek column with words rather than numbers."
   ]
  },
  {
   "cell_type": "code",
   "execution_count": 11,
   "id": "c7b4f1cf",
   "metadata": {
    "execution": {
     "iopub.execute_input": "2022-01-17T05:00:21.615333Z",
     "iopub.status.busy": "2022-01-17T05:00:21.613649Z",
     "iopub.status.idle": "2022-01-17T05:00:50.660376Z",
     "shell.execute_reply": "2022-01-17T05:00:50.659784Z",
     "shell.execute_reply.started": "2022-01-16T07:48:47.339093Z"
    },
    "papermill": {
     "duration": 29.101788,
     "end_time": "2022-01-17T05:00:50.660530",
     "exception": false,
     "start_time": "2022-01-17T05:00:21.558742",
     "status": "completed"
    },
    "tags": []
   },
   "outputs": [],
   "source": [
    "# Cleaning DayOfWeek column\n",
    "DataExpo['DayOfWeek'] = DataExpo['DayOfWeek'].astype(str).str.replace('1','Mon')\n",
    "DataExpo['DayOfWeek'] = DataExpo['DayOfWeek'].astype(str).str.replace('2','Tue')\n",
    "DataExpo['DayOfWeek'] = DataExpo['DayOfWeek'].astype(str).str.replace('3','Wed')\n",
    "DataExpo['DayOfWeek'] = DataExpo['DayOfWeek'].astype(str).str.replace('4','Thu')\n",
    "DataExpo['DayOfWeek'] = DataExpo['DayOfWeek'].astype(str).str.replace('5','Fri')\n",
    "DataExpo['DayOfWeek'] = DataExpo['DayOfWeek'].astype(str).str.replace('6','Sat')\n",
    "DataExpo['DayOfWeek'] = DataExpo['DayOfWeek'].astype(str).str.replace('7','Sun')\n",
    "\n",
    "# Cleaning DayOfWeek column\n",
    "week_classes = ['Mon', 'Tue', 'Wed', 'Thu', 'Fri', 'Sat', 'Sun']\n",
    "wclasses = pd.api.types.CategoricalDtype(ordered=True, categories=week_classes)\n",
    "DataExpo['DayOfWeek'] = DataExpo['DayOfWeek'].astype(wclasses);"
   ]
  },
  {
   "cell_type": "markdown",
   "id": "27baffd9",
   "metadata": {
    "papermill": {
     "duration": 0.046127,
     "end_time": "2022-01-17T05:00:50.753102",
     "exception": false,
     "start_time": "2022-01-17T05:00:50.706975",
     "status": "completed"
    },
    "tags": []
   },
   "source": [
    "Separate cancelled and diverted from the data frame, Then separate the data frame into delayed flights and flights with no delays, and reset the index."
   ]
  },
  {
   "cell_type": "code",
   "execution_count": 12,
   "id": "5006961c",
   "metadata": {
    "execution": {
     "iopub.execute_input": "2022-01-17T05:00:50.851514Z",
     "iopub.status.busy": "2022-01-17T05:00:50.850794Z",
     "iopub.status.idle": "2022-01-17T05:00:55.939557Z",
     "shell.execute_reply": "2022-01-17T05:00:55.938994Z",
     "shell.execute_reply.started": "2022-01-16T07:49:08.19142Z"
    },
    "papermill": {
     "duration": 5.139146,
     "end_time": "2022-01-17T05:00:55.939731",
     "exception": false,
     "start_time": "2022-01-17T05:00:50.800585",
     "status": "completed"
    },
    "tags": []
   },
   "outputs": [],
   "source": [
    "# Flights with delays\n",
    "DataExpo_Delay = DataExpo.query('ArrDelay +  DepDelay > 0')\n",
    "\n",
    "# Flights with no delays\n",
    "DataExpo_no_Delay = DataExpo.query('ArrDelay +  DepDelay <= 0')\n",
    "\n",
    "# resetting index\n",
    "\n",
    "DataExpo = DataExpo.reset_index(drop=True)\n",
    "DataExpo_Delay = DataExpo_Delay.reset_index(drop=True) "
   ]
  },
  {
   "cell_type": "markdown",
   "id": "6f9f4033",
   "metadata": {
    "papermill": {
     "duration": 0.046728,
     "end_time": "2022-01-17T05:00:56.035025",
     "exception": false,
     "start_time": "2022-01-17T05:00:55.988297",
     "status": "completed"
    },
    "tags": []
   },
   "source": [
    "# Analysis"
   ]
  },
  {
   "cell_type": "code",
   "execution_count": 13,
   "id": "758a4abe",
   "metadata": {
    "execution": {
     "iopub.execute_input": "2022-01-17T05:00:56.137763Z",
     "iopub.status.busy": "2022-01-17T05:00:56.137074Z",
     "iopub.status.idle": "2022-01-17T05:00:57.864174Z",
     "shell.execute_reply": "2022-01-17T05:00:57.864687Z",
     "shell.execute_reply.started": "2022-01-16T08:01:38.450576Z"
    },
    "papermill": {
     "duration": 1.782084,
     "end_time": "2022-01-17T05:00:57.864860",
     "exception": false,
     "start_time": "2022-01-17T05:00:56.082776",
     "status": "completed"
    },
    "tags": []
   },
   "outputs": [
    {
     "data": {
      "text/plain": [
       "(51.368036633354016, 29.841126570407226)"
      ]
     },
     "execution_count": 13,
     "metadata": {},
     "output_type": "execute_result"
    }
   ],
   "source": [
    "# Percentage of the flights have either departure or arrival delays and Percentage of those that have both departure and arrival delays\n",
    "100 * (DataExpo.query('DepDelay > 0 | ArrDelay > 0').shape[0]/DataExpo.shape[0]), 100 * (DataExpo.query('DepDelay > 0').query('ArrDelay > 0').shape[0]/DataExpo.shape[0])"
   ]
  },
  {
   "cell_type": "markdown",
   "id": "1b92e78d",
   "metadata": {
    "papermill": {
     "duration": 0.047387,
     "end_time": "2022-01-17T05:00:57.960351",
     "exception": false,
     "start_time": "2022-01-17T05:00:57.912964",
     "status": "completed"
    },
    "tags": []
   },
   "source": [
    "51.37% of the flights have either departure or arrival delays, while 29.84% of the flights have both departure and arrival delays."
   ]
  },
  {
   "cell_type": "markdown",
   "id": "4b1e12c7",
   "metadata": {
    "papermill": {
     "duration": 0.047383,
     "end_time": "2022-01-17T05:00:58.055105",
     "exception": false,
     "start_time": "2022-01-17T05:00:58.007722",
     "status": "completed"
    },
    "tags": []
   },
   "source": [
    "# Univariate exploratory analysis"
   ]
  },
  {
   "cell_type": "code",
   "execution_count": 14,
   "id": "08360f9f",
   "metadata": {
    "execution": {
     "iopub.execute_input": "2022-01-17T05:00:58.154825Z",
     "iopub.status.busy": "2022-01-17T05:00:58.153824Z",
     "iopub.status.idle": "2022-01-17T05:00:58.169209Z",
     "shell.execute_reply": "2022-01-17T05:00:58.168611Z",
     "shell.execute_reply.started": "2022-01-16T08:01:40.997504Z"
    },
    "papermill": {
     "duration": 0.066481,
     "end_time": "2022-01-17T05:00:58.169373",
     "exception": false,
     "start_time": "2022-01-17T05:00:58.102892",
     "status": "completed"
    },
    "tags": []
   },
   "outputs": [
    {
     "data": {
      "text/plain": [
       "(459.5472694786602, 70.95805724195651)"
      ]
     },
     "execution_count": 14,
     "metadata": {},
     "output_type": "execute_result"
    }
   ],
   "source": [
    "# mean Distance and mean AirTime for the delayed flights\n",
    "DataExpo_Delay['Distance'].mean(), DataExpo_Delay['AirTime'].mean()\n"
   ]
  },
  {
   "cell_type": "markdown",
   "id": "9705e4de",
   "metadata": {
    "papermill": {
     "duration": 0.046897,
     "end_time": "2022-01-17T05:00:58.264767",
     "exception": false,
     "start_time": "2022-01-17T05:00:58.217870",
     "status": "completed"
    },
    "tags": []
   },
   "source": [
    "Now let us explore the distribution of Distance and AirTime."
   ]
  },
  {
   "cell_type": "code",
   "execution_count": 15,
   "id": "b31836cf",
   "metadata": {
    "execution": {
     "iopub.execute_input": "2022-01-17T05:00:58.368786Z",
     "iopub.status.busy": "2022-01-17T05:00:58.367704Z",
     "iopub.status.idle": "2022-01-17T05:00:59.169230Z",
     "shell.execute_reply": "2022-01-17T05:00:59.168204Z",
     "shell.execute_reply.started": "2022-01-16T08:01:41.072054Z"
    },
    "papermill": {
     "duration": 0.857348,
     "end_time": "2022-01-17T05:00:59.169413",
     "exception": false,
     "start_time": "2022-01-17T05:00:58.312065",
     "status": "completed"
    },
    "tags": []
   },
   "outputs": [
    {
     "data": {
      "image/png": "[encoded data removed]",
      "text/plain": [
       "<Figure size 1008x576 with 2 Axes>"
      ]
     },
     "metadata": {
      "needs_background": "light"
     },
     "output_type": "display_data"
    }
   ],
   "source": [
    "# Distance and AirTime histograms\n",
    "\n",
    "plt.figure(figsize= (14, 8))\n",
    "\n",
    "plt.subplot(1,2,1)\n",
    "bins = np.arange(0,DataExpo_Delay['Distance'].max()+75,75)\n",
    "plt.hist(data = DataExpo_Delay, x= 'Distance',bins = bins);\n",
    "plt.title('histograms of Distance', fontsize=18, pad=20)\n",
    "plt.xlabel('Distance', fontsize=18)\n",
    "plt.ylabel('Number of delayed flights', fontsize=18)\n",
    "plt.xticks(fontsize=18)\n",
    "plt.yticks(fontsize=18)\n",
    "\n",
    "plt.subplot(1,2,2)\n",
    "bins = np.arange(0,DataExpo_Delay['AirTime'].max()+10,10)\n",
    "plt.hist(data = DataExpo_Delay, x= 'AirTime',bins = bins)\n",
    "plt.title('histograms of AirTime', fontsize=18, pad=20)\n",
    "plt.xlabel('AirTime', fontsize=18)\n",
    "plt.ylabel('Number of delayed flights', fontsize=18)\n",
    "plt.xticks(fontsize=18)\n",
    "plt.yticks(fontsize=18)\n",
    "\n",
    "plt.tight_layout\n",
    "plt.subplots_adjust(left=0.1,right=1.3,  wspace=0.4, hspace=0.4);"
   ]
  },
  {
   "cell_type": "markdown",
   "id": "17a6533c",
   "metadata": {
    "papermill": {
     "duration": 0.049678,
     "end_time": "2022-01-17T05:00:59.267642",
     "exception": false,
     "start_time": "2022-01-17T05:00:59.217964",
     "status": "completed"
    },
    "tags": []
   },
   "source": [
    "The distribution of Distance and AirTime shows skewness toward the right."
   ]
  },
  {
   "cell_type": "markdown",
   "id": "4b68f868",
   "metadata": {
    "papermill": {
     "duration": 0.047924,
     "end_time": "2022-01-17T05:00:59.363957",
     "exception": false,
     "start_time": "2022-01-17T05:00:59.316033",
     "status": "completed"
    },
    "tags": []
   },
   "source": [
    "The top 5 Origins that have the most delayed flights."
   ]
  },
  {
   "cell_type": "code",
   "execution_count": 16,
   "id": "67f161ba",
   "metadata": {
    "execution": {
     "iopub.execute_input": "2022-01-17T05:00:59.464896Z",
     "iopub.status.busy": "2022-01-17T05:00:59.464265Z",
     "iopub.status.idle": "2022-01-17T05:01:00.044958Z",
     "shell.execute_reply": "2022-01-17T05:01:00.044359Z",
     "shell.execute_reply.started": "2022-01-16T08:01:41.762064Z"
    },
    "papermill": {
     "duration": 0.631991,
     "end_time": "2022-01-17T05:01:00.045107",
     "exception": false,
     "start_time": "2022-01-17T05:00:59.413116",
     "status": "completed"
    },
    "tags": []
   },
   "outputs": [
    {
     "data": {
      "text/plain": [
       "ATL    118084\n",
       "DFW     62087\n",
       "LAX     53669\n",
       "ORD     53495\n",
       "CLT     45354\n",
       "Name: Origin, dtype: int64"
      ]
     },
     "execution_count": 16,
     "metadata": {},
     "output_type": "execute_result"
    }
   ],
   "source": [
    "# The top 5 Origin that have the most delayed flights\n",
    "\n",
    "Origin = DataExpo_Delay['Origin'].value_counts().nlargest(5).index.tolist()\n",
    "Origin_top_5_late = DataExpo_Delay[DataExpo_Delay['Origin'].isin (Origin)]\n",
    "Origin_top_5_late['Origin'].value_counts()\n"
   ]
  },
  {
   "cell_type": "markdown",
   "id": "b1c5aa20",
   "metadata": {
    "papermill": {
     "duration": 0.048402,
     "end_time": "2022-01-17T05:01:00.142777",
     "exception": false,
     "start_time": "2022-01-17T05:01:00.094375",
     "status": "completed"
    },
    "tags": []
   },
   "source": [
    "The top 5 Destinations that have the most delayed flights."
   ]
  },
  {
   "cell_type": "code",
   "execution_count": 17,
   "id": "ed709ef5",
   "metadata": {
    "execution": {
     "iopub.execute_input": "2022-01-17T05:01:00.243880Z",
     "iopub.status.busy": "2022-01-17T05:01:00.243215Z",
     "iopub.status.idle": "2022-01-17T05:01:00.800734Z",
     "shell.execute_reply": "2022-01-17T05:01:00.800194Z",
     "shell.execute_reply.started": "2022-01-16T08:01:42.286038Z"
    },
    "papermill": {
     "duration": 0.609711,
     "end_time": "2022-01-17T05:01:00.800889",
     "exception": false,
     "start_time": "2022-01-17T05:01:00.191178",
     "status": "completed"
    },
    "tags": []
   },
   "outputs": [
    {
     "data": {
      "text/plain": [
       "ATL    81528\n",
       "LAX    48576\n",
       "LAS    43322\n",
       "DFW    42349\n",
       "ORD    37954\n",
       "Name: Dest, dtype: int64"
      ]
     },
     "execution_count": 17,
     "metadata": {},
     "output_type": "execute_result"
    }
   ],
   "source": [
    "# The top 5 Destinations that have the most delayed flights\n",
    "\n",
    "Dest = DataExpo_Delay['Dest'].value_counts().nlargest(5).index.tolist()\n",
    "Dest_top_5_late = DataExpo_Delay[DataExpo_Delay['Dest'].isin (Dest)]\n",
    "Dest_top_5_late['Dest'].value_counts()"
   ]
  },
  {
   "cell_type": "code",
   "execution_count": 18,
   "id": "56c8a47f",
   "metadata": {
    "execution": {
     "iopub.execute_input": "2022-01-17T05:01:00.932348Z",
     "iopub.status.busy": "2022-01-17T05:01:00.931628Z",
     "iopub.status.idle": "2022-01-17T05:01:01.912751Z",
     "shell.execute_reply": "2022-01-17T05:01:01.913328Z",
     "shell.execute_reply.started": "2022-01-16T08:01:42.589496Z"
    },
    "papermill": {
     "duration": 1.053926,
     "end_time": "2022-01-17T05:01:01.913529",
     "exception": false,
     "start_time": "2022-01-17T05:01:00.859603",
     "status": "completed"
    },
    "tags": []
   },
   "outputs": [
    {
     "data": {
      "image/png": "[encoded data removed]",
      "text/plain": [
       "<Figure size 1008x576 with 2 Axes>"
      ]
     },
     "metadata": {
      "needs_background": "light"
     },
     "output_type": "display_data"
    }
   ],
   "source": [
    "# Plots for top 5 destinations that have the most delayed flights\n",
    "plt.figure(figsize=(14,8))\n",
    "\n",
    "# Origin count\n",
    "plt.subplot(1,2,1)\n",
    "ax = sb.countplot(data=Origin_top_5_late, x='Origin', color =sb.color_palette()[0], order = Origin_top_5_late['Origin'].value_counts().index)\n",
    "ax.axes.set_title(\"Origin count for top 5 most delayed flights Origin\",fontsize=18, pad=20)\n",
    "ax.set_ylabel(\"Number of delayed flights\",fontsize=18);\n",
    "ax.set_xlabel(\"Origin\",fontsize=18);\n",
    "ax.tick_params(labelsize=18)\n",
    "\n",
    "# Destination count\n",
    "\n",
    "plt.subplot(1,2,2)\n",
    "ax1 = sb.countplot(data=Dest_top_5_late, x='Dest', color =sb.color_palette()[0], order = Dest_top_5_late['Dest'].value_counts().index)\n",
    "plt.ylim(ax.get_ylim()) # set y-axis limits to be same as left plot\n",
    "ax1.axes.set_title(\"Destination count for top 5 most delayed flights Destinations\",fontsize=18, pad=20)\n",
    "ax1.set_ylabel(\"Number of delayed flights\",fontsize=18);\n",
    "ax1.set_xlabel(\"Dest\",fontsize=18);\n",
    "ax1.tick_params(labelsize=18)\n",
    "\n",
    "plt.subplots_adjust(left=0.1,right=1.2, wspace=0.4, hspace=0.4 );"
   ]
  },
  {
   "cell_type": "markdown",
   "id": "b71157e9",
   "metadata": {
    "papermill": {
     "duration": 0.050706,
     "end_time": "2022-01-17T05:01:02.015119",
     "exception": false,
     "start_time": "2022-01-17T05:01:01.964413",
     "status": "completed"
    },
    "tags": []
   },
   "source": [
    "ATL clearly has the most number of delayed flights as Destination or as Origin."
   ]
  },
  {
   "cell_type": "markdown",
   "id": "dfd2f7ec",
   "metadata": {
    "papermill": {
     "duration": 0.04997,
     "end_time": "2022-01-17T05:01:02.116592",
     "exception": false,
     "start_time": "2022-01-17T05:01:02.066622",
     "status": "completed"
    },
    "tags": []
   },
   "source": [
    "# bivariate exploratory analysis"
   ]
  },
  {
   "cell_type": "markdown",
   "id": "3e563546",
   "metadata": {
    "papermill": {
     "duration": 0.050153,
     "end_time": "2022-01-17T05:01:02.217016",
     "exception": false,
     "start_time": "2022-01-17T05:01:02.166863",
     "status": "completed"
    },
    "tags": []
   },
   "source": [
    "### Q1 What are the most significant types of delays?"
   ]
  },
  {
   "cell_type": "code",
   "execution_count": 19,
   "id": "023ed9ba",
   "metadata": {
    "execution": {
     "iopub.execute_input": "2022-01-17T05:01:02.328445Z",
     "iopub.status.busy": "2022-01-17T05:01:02.327615Z",
     "iopub.status.idle": "2022-01-17T05:02:02.551628Z",
     "shell.execute_reply": "2022-01-17T05:02:02.552175Z",
     "shell.execute_reply.started": "2022-01-16T08:01:43.256637Z"
    },
    "papermill": {
     "duration": 60.284854,
     "end_time": "2022-01-17T05:02:02.552353",
     "exception": false,
     "start_time": "2022-01-17T05:01:02.267499",
     "status": "completed"
    },
    "tags": []
   },
   "outputs": [
    {
     "data": {
      "image/png": "[encoded data removed]",
      "text/plain": [
       "<Figure size 1008x576 with 5 Axes>"
      ]
     },
     "metadata": {
      "needs_background": "light"
     },
     "output_type": "display_data"
    }
   ],
   "source": [
    "# Five types of delays in 2006 and 2007 Pointplot\n",
    "\n",
    "plt.figure(figsize= (14, 8))\n",
    "\n",
    "plt.subplot(2,3,1)\n",
    "b1 = sb.pointplot(data=DataExpo_Delay, x='Month', y='LateAircraftDelay',dodge = 0.3)\n",
    "plt.ylim(0,14)\n",
    "b1.axes.set_title(\"Pointplot of the Late aircraft delays in 2006 and 2007\",fontsize=18, pad=20)\n",
    "b1.set_ylabel(\"LateAircraftDelay\",fontsize=18);\n",
    "b1.set_xlabel(\"Month\",fontsize=18);\n",
    "b1.tick_params(labelsize=18)\n",
    "\n",
    "plt.subplot(2,3,2)\n",
    "b2 = sb.pointplot(data=DataExpo_Delay, x='Month', y='CarrierDelay',dodge = 0.3)\n",
    "plt.ylim(0,14)\n",
    "b2.axes.set_title(\"Pointplot of the Carrier delays in 2006 and 2007\",fontsize=18, pad=20)\n",
    "b2.set_ylabel(\"CarrierDelay\",fontsize=18);\n",
    "b2.set_xlabel(\"Month\",fontsize=18);\n",
    "b2.tick_params(labelsize=18)\n",
    "\n",
    "plt.subplot(2,3,3)\n",
    "b3 = sb.pointplot(data=DataExpo_Delay, x='Month', y='NASDelay',dodge = 0.3)\n",
    "plt.ylim(0,14)\n",
    "b3.axes.set_title(\"Pointplot of the NAS delays in 2006 and 2007\",fontsize=18, pad=20)\n",
    "b3.set_ylabel(\"NASDelay\",fontsize=18);\n",
    "b3.set_xlabel(\"Month\",fontsize=18);\n",
    "b3.tick_params(labelsize=18)\n",
    "\n",
    "plt.subplot(2,3,4)\n",
    "b4 = sb.pointplot(data=DataExpo_Delay, x='Month', y='WeatherDelay',dodge = 0.3)\n",
    "plt.ylim(0,14)\n",
    "b4.axes.set_title(\"Pointplot of the Weather delays in 2006 and 2007\",fontsize=18, pad=20)\n",
    "b4.set_ylabel(\"WeatherDelay\",fontsize=18);\n",
    "b4.set_xlabel(\"Month\",fontsize=18);\n",
    "b4.tick_params(labelsize=18)\n",
    "\n",
    "plt.subplot(2,3,5)\n",
    "b5 = sb.pointplot(data=DataExpo_Delay, x='Month', y='SecurityDelay',dodge = 0.3)\n",
    "plt.ylim(0,14)\n",
    "plt.title('Pointplot of the Security delays in 2006 and 2007');\n",
    "b5.axes.set_title(\"Pointplot of the Security delays in 2006 and 2007\",fontsize=18, pad=20)\n",
    "b5.set_ylabel(\"SecurityDelay\",fontsize=18);\n",
    "b5.set_xlabel(\"Month\",fontsize=18);\n",
    "b5.tick_params(labelsize=18);\n",
    "\n",
    "plt.subplots_adjust(left=0.1,bottom=0.1, right=1.5, top=1.1, wspace=0.4, hspace=0.4);"
   ]
  },
  {
   "cell_type": "markdown",
   "id": "bec67fb1",
   "metadata": {
    "papermill": {
     "duration": 0.052713,
     "end_time": "2022-01-17T05:02:02.658447",
     "exception": false,
     "start_time": "2022-01-17T05:02:02.605734",
     "status": "completed"
    },
    "tags": []
   },
   "source": [
    "From the plot, we can deduce that Late aircraft delay is the most significant cause for flight delays."
   ]
  },
  {
   "cell_type": "markdown",
   "id": "1c181c4e",
   "metadata": {
    "papermill": {
     "duration": 0.052761,
     "end_time": "2022-01-17T05:02:02.764616",
     "exception": false,
     "start_time": "2022-01-17T05:02:02.711855",
     "status": "completed"
    },
    "tags": []
   },
   "source": [
    "## Q2 Is there a relation between ArrDelay at certain Dest and DepDelay from certain Origin if the Dest and the Origin are the same?"
   ]
  },
  {
   "cell_type": "code",
   "execution_count": 20,
   "id": "8cfe2c6b",
   "metadata": {
    "execution": {
     "iopub.execute_input": "2022-01-17T05:02:02.908274Z",
     "iopub.status.busy": "2022-01-17T05:02:02.893121Z",
     "iopub.status.idle": "2022-01-17T05:02:02.928295Z",
     "shell.execute_reply": "2022-01-17T05:02:02.928799Z",
     "shell.execute_reply.started": "2022-01-16T08:02:43.38502Z"
    },
    "papermill": {
     "duration": 0.110941,
     "end_time": "2022-01-17T05:02:02.928975",
     "exception": false,
     "start_time": "2022-01-17T05:02:02.818034",
     "status": "completed"
    },
    "tags": []
   },
   "outputs": [
    {
     "data": {
      "text/plain": [
       "Origin\n",
       "ATL    23.479803\n",
       "CLT    22.168541\n",
       "DFW    25.576288\n",
       "LAX    17.072742\n",
       "ORD    33.952575\n",
       "Name: DepDelay, dtype: float64"
      ]
     },
     "execution_count": 20,
     "metadata": {},
     "output_type": "execute_result"
    }
   ],
   "source": [
    "# Top 5 Origin that have the most delayed flights ordered by the mean of DepDelay\n",
    "Origin_top_5_late.groupby('Origin')['DepDelay'].mean()"
   ]
  },
  {
   "cell_type": "code",
   "execution_count": 21,
   "id": "1707ded5",
   "metadata": {
    "execution": {
     "iopub.execute_input": "2022-01-17T05:02:03.062277Z",
     "iopub.status.busy": "2022-01-17T05:02:03.061582Z",
     "iopub.status.idle": "2022-01-17T05:02:03.117637Z",
     "shell.execute_reply": "2022-01-17T05:02:03.118151Z",
     "shell.execute_reply.started": "2022-01-16T08:02:43.423396Z"
    },
    "papermill": {
     "duration": 0.129867,
     "end_time": "2022-01-17T05:02:03.118321",
     "exception": false,
     "start_time": "2022-01-17T05:02:02.988454",
     "status": "completed"
    },
    "tags": []
   },
   "outputs": [
    {
     "data": {
      "text/plain": [
       "Dest\n",
       "ATL    23.935090\n",
       "DFW    23.484285\n",
       "LAS    16.774756\n",
       "LAX    17.061038\n",
       "ORD    35.282526\n",
       "Name: ArrDelay, dtype: float64"
      ]
     },
     "execution_count": 21,
     "metadata": {},
     "output_type": "execute_result"
    }
   ],
   "source": [
    "# Top 5 Destination that have the most delayed flights ordered by the mean of ArrDelay\n",
    "Dest_top_5_late.groupby('Dest')['ArrDelay'].mean()"
   ]
  },
  {
   "cell_type": "code",
   "execution_count": 22,
   "id": "ba78d709",
   "metadata": {
    "execution": {
     "iopub.execute_input": "2022-01-17T05:02:03.233048Z",
     "iopub.status.busy": "2022-01-17T05:02:03.232029Z",
     "iopub.status.idle": "2022-01-17T05:02:08.316296Z",
     "shell.execute_reply": "2022-01-17T05:02:08.315563Z",
     "shell.execute_reply.started": "2022-01-16T08:02:43.453411Z"
    },
    "papermill": {
     "duration": 5.142833,
     "end_time": "2022-01-17T05:02:08.316449",
     "exception": false,
     "start_time": "2022-01-17T05:02:03.173616",
     "status": "completed"
    },
    "tags": []
   },
   "outputs": [
    {
     "data": {
      "image/png": "[encoded data removed]",
      "text/plain": [
       "<Figure size 1008x576 with 2 Axes>"
      ]
     },
     "metadata": {
      "needs_background": "light"
     },
     "output_type": "display_data"
    }
   ],
   "source": [
    "# Plots for Origin vs DepDelay and Destination vs ArrDelay for top 5 Origin and Destination that have the most delayed flights\n",
    "\n",
    "plt.figure(figsize= (14, 8))\n",
    "\n",
    "# Origin vs DepDelay \n",
    "plt.subplot(2,2,1)\n",
    "g1 = sb.barplot(data=Origin_top_5_late, x='Origin', y = 'DepDelay', color =sb.color_palette()[0],order = Origin_top_5_late.groupby('Origin')['DepDelay'].mean().sort_values(ascending = False).index)\n",
    "g1.axes.set_title(\"Origin vs DepDelay\",fontsize=18, pad=20)\n",
    "g1.set_ylabel(\"DepDelay\",fontsize=18);\n",
    "g1.set_xlabel(\"Origin\",fontsize=18);\n",
    "g1.tick_params(labelsize=18)\n",
    "\n",
    "# Destination vs ArrDelay \n",
    "plt.subplot(2,2,2)\n",
    "g2 = sb.barplot(data=Dest_top_5_late, x='Dest', y = 'ArrDelay', color =sb.color_palette()[0],order = Dest_top_5_late.groupby('Dest')['ArrDelay'].mean().sort_values(ascending = False).index)\n",
    "plt.ylim(g1.get_ylim()) # set y-axis limits to be same as left plot\n",
    "g2.axes.set_title(\"Destination vs ArrDelay\",fontsize=18, pad=20)\n",
    "g2.set_ylabel(\"ArrDelay\",fontsize=18);\n",
    "g2.set_xlabel(\"Dest\",fontsize=18);\n",
    "g2.tick_params(labelsize=18)\n",
    "plt.subplots_adjust(left=0.1,right=1.2,top=1.9,bottom=0.1,  wspace=0.4, hspace=0.4);"
   ]
  },
  {
   "cell_type": "markdown",
   "id": "0ccbf238",
   "metadata": {
    "papermill": {
     "duration": 0.057694,
     "end_time": "2022-01-17T05:02:08.430329",
     "exception": false,
     "start_time": "2022-01-17T05:02:08.372635",
     "status": "completed"
    },
    "tags": []
   },
   "source": [
    "The two plots above show a similar pattern in which each of ATL and LAX **has the same Time delay** (ArrDelay and DepDelay) as Destination and as Origin, And each of ORD and DFW **has approximately the same Time delay** (ArrDelay and DepDelay) as Destination and as Origin."
   ]
  },
  {
   "cell_type": "markdown",
   "id": "056eb303",
   "metadata": {
    "papermill": {
     "duration": 0.058165,
     "end_time": "2022-01-17T05:02:08.544816",
     "exception": false,
     "start_time": "2022-01-17T05:02:08.486651",
     "status": "completed"
    },
    "tags": []
   },
   "source": [
    "This lead to the conclusion that there is a strong relation between ArrDelay at certain Dest and DepDelay from certain Origin if the Dest and the Origin are the same."
   ]
  },
  {
   "cell_type": "markdown",
   "id": "d60cd222",
   "metadata": {
    "papermill": {
     "duration": 0.058325,
     "end_time": "2022-01-17T05:02:08.662224",
     "exception": false,
     "start_time": "2022-01-17T05:02:08.603899",
     "status": "completed"
    },
    "tags": []
   },
   "source": [
    "# Multivariate exploratory analysis"
   ]
  },
  {
   "cell_type": "markdown",
   "id": "d5b1c88c",
   "metadata": {
    "papermill": {
     "duration": 0.057979,
     "end_time": "2022-01-17T05:02:08.779069",
     "exception": false,
     "start_time": "2022-01-17T05:02:08.721090",
     "status": "completed"
    },
    "tags": []
   },
   "source": [
    "### Q3 Does the Airtime and Distance affect the number of delayed flights?\n"
   ]
  },
  {
   "cell_type": "markdown",
   "id": "606ec761",
   "metadata": {
    "papermill": {
     "duration": 0.057961,
     "end_time": "2022-01-17T05:02:08.894312",
     "exception": false,
     "start_time": "2022-01-17T05:02:08.836351",
     "status": "completed"
    },
    "tags": []
   },
   "source": [
    "Let's explore the most delayed aircrafts "
   ]
  },
  {
   "cell_type": "code",
   "execution_count": 23,
   "id": "dd650612",
   "metadata": {
    "execution": {
     "iopub.execute_input": "2022-01-17T05:02:09.017487Z",
     "iopub.status.busy": "2022-01-17T05:02:09.016757Z",
     "iopub.status.idle": "2022-01-17T05:02:09.222749Z",
     "shell.execute_reply": "2022-01-17T05:02:09.222165Z",
     "shell.execute_reply.started": "2022-01-16T08:02:48.080243Z"
    },
    "papermill": {
     "duration": 0.2692,
     "end_time": "2022-01-17T05:02:09.222893",
     "exception": false,
     "start_time": "2022-01-17T05:02:08.953693",
     "status": "completed"
    },
    "tags": []
   },
   "outputs": [
    {
     "data": {
      "text/plain": [
       "N455YV    252\n",
       "N448YV    238\n",
       "N445YV    230\n",
       "N454YV    215\n",
       "N75994    209\n",
       "N434YV    208\n",
       "N932AT    202\n",
       "N447YV    201\n",
       "Name: TailNum, dtype: int64"
      ]
     },
     "execution_count": 23,
     "metadata": {},
     "output_type": "execute_result"
    }
   ],
   "source": [
    "# Delayed aircrafts due to only Late Aircraft Delay with delayed flights more than 200\n",
    "\n",
    "LateAircraftDelay_only= DataExpo_Delay.query('CarrierDelay ==0 & WeatherDelay ==0 & NASDelay ==0 & SecurityDelay ==0 &LateAircraftDelay !=0')\n",
    "plane_list = LateAircraftDelay_only['TailNum'].value_counts().loc[lambda x:x>200].index.tolist()\n",
    "aircrafts_morethan_200 = LateAircraftDelay_only[LateAircraftDelay_only['TailNum'].isin (plane_list)]\n",
    "aircrafts_morethan_200['TailNum'].value_counts()"
   ]
  },
  {
   "cell_type": "code",
   "execution_count": 24,
   "id": "255a42fd",
   "metadata": {
    "execution": {
     "iopub.execute_input": "2022-01-17T05:02:09.339356Z",
     "iopub.status.busy": "2022-01-17T05:02:09.338581Z",
     "iopub.status.idle": "2022-01-17T05:02:09.343865Z",
     "shell.execute_reply": "2022-01-17T05:02:09.344421Z",
     "shell.execute_reply.started": "2022-01-16T08:02:48.227631Z"
    },
    "papermill": {
     "duration": 0.065122,
     "end_time": "2022-01-17T05:02:09.344597",
     "exception": false,
     "start_time": "2022-01-17T05:02:09.279475",
     "status": "completed"
    },
    "tags": []
   },
   "outputs": [
    {
     "data": {
      "text/plain": [
       "1755"
      ]
     },
     "execution_count": 24,
     "metadata": {},
     "output_type": "execute_result"
    }
   ],
   "source": [
    "# Total delayed flights due to aircrafts with delayed flights more than 200\n",
    "aircrafts_morethan_200.shape[0]"
   ]
  },
  {
   "cell_type": "code",
   "execution_count": 25,
   "id": "d3d5a2ca",
   "metadata": {
    "execution": {
     "iopub.execute_input": "2022-01-17T05:02:09.461089Z",
     "iopub.status.busy": "2022-01-17T05:02:09.460426Z",
     "iopub.status.idle": "2022-01-17T05:02:09.473193Z",
     "shell.execute_reply": "2022-01-17T05:02:09.473737Z",
     "shell.execute_reply.started": "2022-01-16T08:02:48.234675Z"
    },
    "papermill": {
     "duration": 0.073114,
     "end_time": "2022-01-17T05:02:09.473933",
     "exception": false,
     "start_time": "2022-01-17T05:02:09.400819",
     "status": "completed"
    },
    "tags": []
   },
   "outputs": [
    {
     "data": {
      "text/plain": [
       "85.01424501424502"
      ]
     },
     "execution_count": 25,
     "metadata": {},
     "output_type": "execute_result"
    }
   ],
   "source": [
    "# percentage of The most delayed aircrafts due to only Late Aircraft Delay made flights less than the mean airtime\n",
    "100 * aircrafts_morethan_200.query('AirTime < 70.95805724195651').shape[0]/aircrafts_morethan_200.shape[0]"
   ]
  },
  {
   "cell_type": "code",
   "execution_count": 26,
   "id": "88af5374",
   "metadata": {
    "execution": {
     "iopub.execute_input": "2022-01-17T05:02:09.596154Z",
     "iopub.status.busy": "2022-01-17T05:02:09.595152Z",
     "iopub.status.idle": "2022-01-17T05:02:09.605219Z",
     "shell.execute_reply": "2022-01-17T05:02:09.605955Z",
     "shell.execute_reply.started": "2022-01-16T08:02:48.256945Z"
    },
    "papermill": {
     "duration": 0.073796,
     "end_time": "2022-01-17T05:02:09.606147",
     "exception": false,
     "start_time": "2022-01-17T05:02:09.532351",
     "status": "completed"
    },
    "tags": []
   },
   "outputs": [
    {
     "data": {
      "text/plain": [
       "91.62393162393163"
      ]
     },
     "execution_count": 26,
     "metadata": {},
     "output_type": "execute_result"
    }
   ],
   "source": [
    "# percentage of The most delayed aircrafts due to only Late Aircraft Delay made flights less than the mean distance\n",
    "100 * aircrafts_morethan_200.query('Distance < 459.5472694786602').shape[0]/aircrafts_morethan_200.shape[0]"
   ]
  },
  {
   "cell_type": "code",
   "execution_count": 27,
   "id": "2ce2279e",
   "metadata": {
    "execution": {
     "iopub.execute_input": "2022-01-17T05:02:09.738920Z",
     "iopub.status.busy": "2022-01-17T05:02:09.730894Z",
     "iopub.status.idle": "2022-01-17T05:02:10.628437Z",
     "shell.execute_reply": "2022-01-17T05:02:10.627831Z",
     "shell.execute_reply.started": "2022-01-16T08:02:48.269948Z"
    },
    "papermill": {
     "duration": 0.961226,
     "end_time": "2022-01-17T05:02:10.628579",
     "exception": false,
     "start_time": "2022-01-17T05:02:09.667353",
     "status": "completed"
    },
    "tags": []
   },
   "outputs": [
    {
     "data": {
      "image/png": "[encoded data removed]",
      "text/plain": [
       "<Figure size 1008x576 with 1 Axes>"
      ]
     },
     "metadata": {
      "needs_background": "light"
     },
     "output_type": "display_data"
    }
   ],
   "source": [
    "# Aircrafts vs Late Aircraft Delay bar plot ordered by late aircraft delay\n",
    "\n",
    "plt.figure(figsize= (14, 8));\n",
    "\n",
    "g2 = sb.barplot(data = aircrafts_morethan_200, x='TailNum',y = 'LateAircraftDelay',order = aircrafts_morethan_200.groupby('TailNum')['LateAircraftDelay'].mean().sort_values(ascending = False).index,hue = 'Year')\n",
    "g2.axes.set_title(\"Bar plot of Aircrafts vs Late Aircraft Delay\",fontsize=18, pad=20)\n",
    "g2.set_ylabel(\"LateAircraftDelay\",fontsize=18);\n",
    "g2.set_xlabel(\"TailNum\",fontsize=18);\n",
    "g2.tick_params(labelsize=18)\n",
    "plt.setp(g2.get_legend().get_texts(), fontsize='18')\n",
    "plt.setp(g2.get_legend().get_title(), fontsize='18');"
   ]
  },
  {
   "cell_type": "code",
   "execution_count": 28,
   "id": "79f6c701",
   "metadata": {
    "execution": {
     "iopub.execute_input": "2022-01-17T05:02:10.755072Z",
     "iopub.status.busy": "2022-01-17T05:02:10.754340Z",
     "iopub.status.idle": "2022-01-17T05:02:12.347299Z",
     "shell.execute_reply": "2022-01-17T05:02:12.347782Z",
     "shell.execute_reply.started": "2022-01-16T08:02:48.918082Z"
    },
    "papermill": {
     "duration": 1.661782,
     "end_time": "2022-01-17T05:02:12.347980",
     "exception": false,
     "start_time": "2022-01-17T05:02:10.686198",
     "status": "completed"
    },
    "tags": []
   },
   "outputs": [
    {
     "data": {
      "image/png": "[encoded data removed]",
      "text/plain": [
       "<Figure size 1440x576 with 8 Axes>"
      ]
     },
     "metadata": {
      "needs_background": "light"
     },
     "output_type": "display_data"
    }
   ],
   "source": [
    "# Distance versus airtime of The most delayed aircrafts due to only Late Aircraft Delay ordered by number of delayed flights\n",
    "\n",
    "h = sb.FacetGrid(data = aircrafts_morethan_200,  margin_titles = True, col = 'TailNum', col_order = aircrafts_morethan_200['TailNum'].value_counts().index,col_wrap = 4)\n",
    "h.map(plt.scatter, 'Distance' ,  'AirTime')\n",
    "h.fig.suptitle('Distance versus airtime of The top 5 most delayed aircrafts due to only Late Aircraft Delay', fontsize=18);\n",
    "h.fig.set_size_inches(20, 8);\n",
    "h.set_titles(col_template=\"TailNum = {col_name}\", fontweight='bold')\n",
    "h.fig.subplots_adjust(left=0.1,right=0.9,top=0.85,  wspace=0.3, hspace=0.3);"
   ]
  },
  {
   "cell_type": "markdown",
   "id": "7c3bd33a",
   "metadata": {
    "papermill": {
     "duration": 0.059734,
     "end_time": "2022-01-17T05:02:12.466824",
     "exception": false,
     "start_time": "2022-01-17T05:02:12.407090",
     "status": "completed"
    },
    "tags": []
   },
   "source": [
    "It is obvious from the plots that most of the delayed Aircrafts made short-distance short-timed flights.\n",
    "\n",
    "91.62% of the most delayed aircrafts made flights less than the mean distance of the delayed flights.\n",
    "\n",
    "85.01% of them made flights less than the mean airtime of the delayed flights.\n",
    "\n",
    "Keep in mind that the total delayed flights due to aircrafts with delayed flights of more than 200 are only 1755 late flights."
   ]
  },
  {
   "cell_type": "code",
   "execution_count": 29,
   "id": "25c9260d",
   "metadata": {
    "execution": {
     "iopub.execute_input": "2022-01-17T05:02:12.588813Z",
     "iopub.status.busy": "2022-01-17T05:02:12.588182Z",
     "iopub.status.idle": "2022-01-17T05:02:12.601318Z",
     "shell.execute_reply": "2022-01-17T05:02:12.601787Z",
     "shell.execute_reply.started": "2022-01-16T08:02:50.278849Z"
    },
    "papermill": {
     "duration": 0.075662,
     "end_time": "2022-01-17T05:02:12.601991",
     "exception": false,
     "start_time": "2022-01-17T05:02:12.526329",
     "status": "completed"
    },
    "tags": []
   },
   "outputs": [
    {
     "data": {
      "text/plain": [
       "(52.74162679425837, 321.66985645933016)"
      ]
     },
     "execution_count": 29,
     "metadata": {},
     "output_type": "execute_result"
    }
   ],
   "source": [
    "# Mean of AirTime and mean of Distance for aircraft N75994 which is at the top of the mean of the Late Aircraft Delay\n",
    "\n",
    "aircrafts_morethan_200.query('TailNum == \"N75994\"')['AirTime'].mean(), aircrafts_morethan_200.query('TailNum == \"N75994\"')['Distance'].mean()"
   ]
  },
  {
   "cell_type": "code",
   "execution_count": 30,
   "id": "eb7061c0",
   "metadata": {
    "execution": {
     "iopub.execute_input": "2022-01-17T05:02:12.724675Z",
     "iopub.status.busy": "2022-01-17T05:02:12.723985Z",
     "iopub.status.idle": "2022-01-17T05:02:12.737462Z",
     "shell.execute_reply": "2022-01-17T05:02:12.738002Z",
     "shell.execute_reply.started": "2022-01-16T08:02:50.295168Z"
    },
    "papermill": {
     "duration": 0.076728,
     "end_time": "2022-01-17T05:02:12.738189",
     "exception": false,
     "start_time": "2022-01-17T05:02:12.661461",
     "status": "completed"
    },
    "tags": []
   },
   "outputs": [
    {
     "data": {
      "text/plain": [
       "(45.17460317460318, 181.63095238095238)"
      ]
     },
     "execution_count": 30,
     "metadata": {},
     "output_type": "execute_result"
    }
   ],
   "source": [
    "# Mean of AirTime and mean of Distance for aircraft N455YV which is at the top of the number of late flights\n",
    "\n",
    "aircrafts_morethan_200.query('TailNum == \"N455YV\"')['AirTime'].mean(), aircrafts_morethan_200.query('TailNum == \"N455YV\"')['Distance'].mean()"
   ]
  },
  {
   "cell_type": "markdown",
   "id": "c9a451fb",
   "metadata": {
    "papermill": {
     "duration": 0.060371,
     "end_time": "2022-01-17T05:02:12.859200",
     "exception": false,
     "start_time": "2022-01-17T05:02:12.798829",
     "status": "completed"
    },
    "tags": []
   },
   "source": [
    "We can deduce from the bar plot and the scatter plot above that:\n",
    "\n",
    "Aircraft N455YV **(the top of the number of late flights)** is the fifth according to the mean of Late Aircraft Delay\n",
    "\n",
    "Aircraft N75994 **(the top of the mean of Late Aircraft Delay)** is the fifth according to the number of late flights."
   ]
  },
  {
   "cell_type": "markdown",
   "id": "eaf20c47",
   "metadata": {
    "papermill": {
     "duration": 0.059257,
     "end_time": "2022-01-17T05:02:12.979657",
     "exception": false,
     "start_time": "2022-01-17T05:02:12.920400",
     "status": "completed"
    },
    "tags": []
   },
   "source": [
    "Both of the two Aircraft made flights **less than** the mean of Airtime and **less than** the mean of Distance of the delayed flights.\n",
    "\n",
    "Aircraft N75994 has a mean value of Airtime equals 52.74 and a mean value of Distance equals 321.67.\n",
    "\n",
    "Aircraft N455YV has a mean value of Airtime equals 45.17 and a mean value of Distance equals 181.63."
   ]
  },
  {
   "cell_type": "markdown",
   "id": "82750090",
   "metadata": {
    "papermill": {
     "duration": 0.060209,
     "end_time": "2022-01-17T05:02:13.099694",
     "exception": false,
     "start_time": "2022-01-17T05:02:13.039485",
     "status": "completed"
    },
    "tags": []
   },
   "source": [
    "So we can conclude that long-distance flights and long-time flights have no significant impact on the delays."
   ]
  },
  {
   "cell_type": "markdown",
   "id": "e9bb897e",
   "metadata": {
    "papermill": {
     "duration": 0.076812,
     "end_time": "2022-01-17T05:02:13.236484",
     "exception": false,
     "start_time": "2022-01-17T05:02:13.159672",
     "status": "completed"
    },
    "tags": []
   },
   "source": [
    "* Q4 Is there a sign that the Cancelled flights are related to the Aircraft itself?"
   ]
  },
  {
   "cell_type": "code",
   "execution_count": 31,
   "id": "9ea16950",
   "metadata": {
    "execution": {
     "iopub.execute_input": "2022-01-17T05:02:13.387618Z",
     "iopub.status.busy": "2022-01-17T05:02:13.386546Z",
     "iopub.status.idle": "2022-01-17T05:02:13.568795Z",
     "shell.execute_reply": "2022-01-17T05:02:13.568220Z",
     "shell.execute_reply.started": "2022-01-16T08:02:50.316323Z"
    },
    "papermill": {
     "duration": 0.259131,
     "end_time": "2022-01-17T05:02:13.568977",
     "exception": false,
     "start_time": "2022-01-17T05:02:13.309846",
     "status": "completed"
    },
    "tags": []
   },
   "outputs": [],
   "source": [
    "# Top 5 aircrafts with Cancelled flight \n",
    "\n",
    "DataExpo_cancelled = DataExpo_cancelled_or_diverted.query('Cancelled == 1 & Diverted == 0& TailNum!=\"0\" &TailNum !=\"000000\"')\n",
    "\n",
    "DataExpo_cancelled_list = DataExpo_cancelled['TailNum'].value_counts().nlargest(5).index.tolist()\n",
    "DataExpo_top_5_cancelled = DataExpo_cancelled[DataExpo_cancelled['TailNum'].isin (DataExpo_cancelled_list)]"
   ]
  },
  {
   "cell_type": "code",
   "execution_count": 32,
   "id": "2917188a",
   "metadata": {
    "execution": {
     "iopub.execute_input": "2022-01-17T05:02:13.700954Z",
     "iopub.status.busy": "2022-01-17T05:02:13.699981Z",
     "iopub.status.idle": "2022-01-17T05:02:14.003086Z",
     "shell.execute_reply": "2022-01-17T05:02:14.002513Z",
     "shell.execute_reply.started": "2022-01-16T08:02:50.444028Z"
    },
    "papermill": {
     "duration": 0.367556,
     "end_time": "2022-01-17T05:02:14.003253",
     "exception": false,
     "start_time": "2022-01-17T05:02:13.635697",
     "status": "completed"
    },
    "tags": []
   },
   "outputs": [
    {
     "data": {
      "image/png": "[encoded data removed]",
      "text/plain": [
       "<Figure size 1008x576 with 1 Axes>"
      ]
     },
     "metadata": {
      "needs_background": "light"
     },
     "output_type": "display_data"
    }
   ],
   "source": [
    "# Aircrafts with Cancelled flight counts\n",
    "\n",
    "plt.figure(figsize= (14, 8))\n",
    "\n",
    "g3 = sb.countplot(data = DataExpo_top_5_cancelled, x='TailNum', hue = 'Year', order = DataExpo_top_5_cancelled['TailNum'].value_counts().index)\n",
    "g3.axes.set_title(\"Bar plot of Aircrafts with Cancelled flight\",fontsize=18, pad=20)\n",
    "g3.set_ylabel(\"Number of cancelled flights\",fontsize=18);\n",
    "g3.set_xlabel(\"TailNum\",fontsize=18);\n",
    "g3.tick_params(labelsize=18)\n",
    "plt.setp(g3.get_legend().get_texts(), fontsize='18')\n",
    "plt.setp(g3.get_legend().get_title(), fontsize='18');"
   ]
  },
  {
   "cell_type": "markdown",
   "id": "6fc99883",
   "metadata": {
    "papermill": {
     "duration": 0.061612,
     "end_time": "2022-01-17T05:02:14.130674",
     "exception": false,
     "start_time": "2022-01-17T05:02:14.069062",
     "status": "completed"
    },
    "tags": []
   },
   "source": [
    "It is clear that the top 2 Aircrafts show a huge increase in cancelled flights in 2007 versus 2006."
   ]
  },
  {
   "cell_type": "code",
   "execution_count": 33,
   "id": "2aab0f9f",
   "metadata": {
    "execution": {
     "iopub.execute_input": "2022-01-17T05:02:14.258664Z",
     "iopub.status.busy": "2022-01-17T05:02:14.257608Z",
     "iopub.status.idle": "2022-01-17T05:02:14.291148Z",
     "shell.execute_reply": "2022-01-17T05:02:14.291666Z",
     "shell.execute_reply.started": "2022-01-16T08:02:50.737494Z"
    },
    "papermill": {
     "duration": 0.100273,
     "end_time": "2022-01-17T05:02:14.291849",
     "exception": false,
     "start_time": "2022-01-17T05:02:14.191576",
     "status": "completed"
    },
    "tags": []
   },
   "outputs": [
    {
     "data": {
      "text/plain": [
       "(180, 84.91111111111111)"
      ]
     },
     "execution_count": 33,
     "metadata": {},
     "output_type": "execute_result"
    }
   ],
   "source": [
    "# Number of delayed flights and mean of Late Aircraft Delay for aircraft N715SF which is at the top of cancelled flights\n",
    "LateAircraftDelay_only.query('TailNum == \"N715SF\"').shape[0],LateAircraftDelay_only.query('TailNum == \"N715SF\"')['LateAircraftDelay'].mean()"
   ]
  },
  {
   "cell_type": "code",
   "execution_count": 34,
   "id": "6b63712b",
   "metadata": {
    "execution": {
     "iopub.execute_input": "2022-01-17T05:02:14.417518Z",
     "iopub.status.busy": "2022-01-17T05:02:14.416822Z",
     "iopub.status.idle": "2022-01-17T05:02:14.452280Z",
     "shell.execute_reply": "2022-01-17T05:02:14.452785Z",
     "shell.execute_reply.started": "2022-01-16T08:02:50.771693Z"
    },
    "papermill": {
     "duration": 0.100105,
     "end_time": "2022-01-17T05:02:14.452974",
     "exception": false,
     "start_time": "2022-01-17T05:02:14.352869",
     "status": "completed"
    },
    "tags": []
   },
   "outputs": [
    {
     "data": {
      "text/plain": [
       "(252, 65.38888888888889)"
      ]
     },
     "execution_count": 34,
     "metadata": {},
     "output_type": "execute_result"
    }
   ],
   "source": [
    "# Number of delayed flights and mean of Late Aircraft Delay for aircraft N455YV which is at the top of the number of late flights\n",
    "LateAircraftDelay_only.query('TailNum == \"N455YV\"').shape[0],LateAircraftDelay_only.query('TailNum == \"N455YV\"')['LateAircraftDelay'].mean()"
   ]
  },
  {
   "cell_type": "code",
   "execution_count": 35,
   "id": "182910dc",
   "metadata": {
    "execution": {
     "iopub.execute_input": "2022-01-17T05:02:14.582618Z",
     "iopub.status.busy": "2022-01-17T05:02:14.581894Z",
     "iopub.status.idle": "2022-01-17T05:02:14.615518Z",
     "shell.execute_reply": "2022-01-17T05:02:14.614860Z",
     "shell.execute_reply.started": "2022-01-16T08:02:50.805251Z"
    },
    "papermill": {
     "duration": 0.1003,
     "end_time": "2022-01-17T05:02:14.615657",
     "exception": false,
     "start_time": "2022-01-17T05:02:14.515357",
     "status": "completed"
    },
    "tags": []
   },
   "outputs": [
    {
     "data": {
      "text/plain": [
       "(209, 83.33014354066985)"
      ]
     },
     "execution_count": 35,
     "metadata": {},
     "output_type": "execute_result"
    }
   ],
   "source": [
    "# Number of delayed flights and mean of Late Aircraft Delay for aircraft N75994 which is at the top of the mean of the Late Aircraft Delay\n",
    "LateAircraftDelay_only.query('TailNum == \"N75994\"').shape[0],LateAircraftDelay_only.query('TailNum == \"N75994\"')['LateAircraftDelay'].mean()"
   ]
  },
  {
   "cell_type": "markdown",
   "id": "9618738f",
   "metadata": {
    "papermill": {
     "duration": 0.061583,
     "end_time": "2022-01-17T05:02:14.739305",
     "exception": false,
     "start_time": "2022-01-17T05:02:14.677722",
     "status": "completed"
    },
    "tags": []
   },
   "source": [
    "Aircraft N715SF **(the top of cancelled flights)** has 180 delayed flights with a mean of Late Aircraft Delay equals 84.91.\n",
    "\n",
    "Aircraft N455YV **(the top of the number of late flights)** has 252 delayed flights and 65.39 is the value of the mean of Late Aircraft Delay.\n",
    "\n",
    "Aircraft N75994 **(the top of the Late Aircraft Delay mean)** has 209 delayed flights and 83.33 is the value of the mean of Late Aircraft Delay.\n",
    "\n",
    "This means that the Aircraft with the most cancelled flights has a mean of Late Aircraft Delay higher than that of the highest mean of Late Aircraft Delay from the list of the highest delayed flights.\n",
    "\n",
    "Keep in mind that the Aircraft N715SF made fewer Number of delayed flights 180 flight verses 209 flight by N75994."
   ]
  },
  {
   "cell_type": "markdown",
   "id": "a7141896",
   "metadata": {
    "papermill": {
     "duration": 0.061743,
     "end_time": "2022-01-17T05:02:14.862313",
     "exception": false,
     "start_time": "2022-01-17T05:02:14.800570",
     "status": "completed"
    },
    "tags": []
   },
   "source": [
    "Since we reached the point that the aircraft which is at the top of cancelled flights has other flights delayed with a significant average delay, This lead us to affirm that the Aircraft itself has an impact on cancelled flights."
   ]
  },
  {
   "cell_type": "markdown",
   "id": "b7551391",
   "metadata": {
    "papermill": {
     "duration": 0.062415,
     "end_time": "2022-01-17T05:02:14.986660",
     "exception": false,
     "start_time": "2022-01-17T05:02:14.924245",
     "status": "completed"
    },
    "tags": []
   },
   "source": [
    "# Limitations\n",
    "\n",
    "* The absence of determining the reason for cancelling the flights.\n",
    "* The existence of a column containing CRS of the Airtime could have given a boost in determining the overall delay of the flights.\n",
    "* There is a huge number of different aircrafts, so the data about each aircraft is really small."
   ]
  },
  {
   "cell_type": "markdown",
   "id": "d753ac7f",
   "metadata": {
    "papermill": {
     "duration": 0.062201,
     "end_time": "2022-01-17T05:02:15.111357",
     "exception": false,
     "start_time": "2022-01-17T05:02:15.049156",
     "status": "completed"
    },
    "tags": []
   },
   "source": [
    "###  So to conclude:\n",
    "\n",
    "* Late aircraft delay is the most significant cause of flight delays.\n",
    "* There is a strong relation between ArrDelay at certain Dest and DepDelay from certain Origin if the Destination and the Origin are the same.\n",
    "* Long-distance flights and long-time flights have no significant impact on the delays.\n",
    "* The Aircraft itself has an impact on the cancelled flights."
   ]
  }
 ],
 "metadata": {
  "kernelspec": {
   "display_name": "Python 3",
   "language": "python",
   "name": "python3"
  },
  "language_info": {
   "codemirror_mode": {
    "name": "ipython",
    "version": 3
   },
   "file_extension": ".py",
   "mimetype": "text/x-python",
   "name": "python",
   "nbconvert_exporter": "python",
   "pygments_lexer": "ipython3",
   "version": "3.7.12"
  },
  "papermill": {
   "default_parameters": {},
   "duration": 977.45496,
   "end_time": "2022-01-17T05:02:17.891105",
   "environment_variables": {},
   "exception": null,
   "input_path": "__notebook__.ipynb",
   "output_path": "__notebook__.ipynb",
   "parameters": {},
   "start_time": "2022-01-17T04:46:00.436145",
   "version": "2.3.3"
  }
 },
 "nbformat": 4,
 "nbformat_minor": 5
}
